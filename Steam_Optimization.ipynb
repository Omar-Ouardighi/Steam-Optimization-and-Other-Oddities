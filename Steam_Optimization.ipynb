{
  "nbformat": 4,
  "nbformat_minor": 0,
  "metadata": {
    "colab": {
      "name": "Steam_Optimization.ipynb",
      "provenance": [],
      "mount_file_id": "1jS8h1sKAouNNw2yWcl5b22pRJz6GMkBC",
      "authorship_tag": "ABX9TyOdwpDiY7NCde+bwta2aqQy",
      "include_colab_link": true
    },
    "kernelspec": {
      "name": "python3",
      "display_name": "Python 3"
    },
    "language_info": {
      "name": "python"
    }
  },
  "cells": [
    {
      "cell_type": "markdown",
      "metadata": {
        "id": "view-in-github",
        "colab_type": "text"
      },
      "source": [
        "<a href=\"https://colab.research.google.com/github/Omar-Ouardighi/Steam-Optimization-and-Other-Oddities/blob/main/Steam_Optimization.ipynb\" target=\"_parent\"><img src=\"https://colab.research.google.com/assets/colab-badge.svg\" alt=\"Open In Colab\"/></a>"
      ]
    },
    {
      "cell_type": "code",
      "metadata": {
        "id": "upA1iP9xX0x0"
      },
      "source": [
        "import numpy as np\n",
        "import pandas as pd\n",
        "import matplotlib.pyplot as plt\n",
        "import seaborn as sns\n",
        "from sklearn.feature_selection import mutual_info_regression\n",
        "from sklearn.model_selection import train_test_split\n",
        "from sklearn.ensemble import RandomForestRegressor"
      ],
      "execution_count": 40,
      "outputs": []
    },
    {
      "cell_type": "code",
      "metadata": {
        "colab": {
          "base_uri": "https://localhost:8080/",
          "height": 244
        },
        "id": "3ABQ_K2vYSQa",
        "outputId": "95226371-2b74-4368-bdc6-6afcbc489fb9"
      },
      "source": [
        "train_df = pd.read_csv('/content/train(2).csv', parse_dates=['SURV_DTE'])\n",
        "test_df = pd.read_csv('/content/test_data(1).csv')\n",
        "sub = pd.read_csv('/content/submission_sample(1).csv')\n",
        "print(train_df.shape, test_df.shape)\n",
        "train_df.head()"
      ],
      "execution_count": 15,
      "outputs": [
        {
          "output_type": "stream",
          "name": "stdout",
          "text": [
            "(8004, 20) (1504, 17)\n"
          ]
        },
        {
          "output_type": "execute_result",
          "data": {
            "text/html": [
              "<div>\n",
              "<style scoped>\n",
              "    .dataframe tbody tr th:only-of-type {\n",
              "        vertical-align: middle;\n",
              "    }\n",
              "\n",
              "    .dataframe tbody tr th {\n",
              "        vertical-align: top;\n",
              "    }\n",
              "\n",
              "    .dataframe thead th {\n",
              "        text-align: right;\n",
              "    }\n",
              "</style>\n",
              "<table border=\"1\" class=\"dataframe\">\n",
              "  <thead>\n",
              "    <tr style=\"text-align: right;\">\n",
              "      <th></th>\n",
              "      <th>CMPL_FAC_ID</th>\n",
              "      <th>SAND</th>\n",
              "      <th>SURV_DTE</th>\n",
              "      <th>DIP</th>\n",
              "      <th>AVG_ORIG_OIL_SAT</th>\n",
              "      <th>ORIG_OIL_H</th>\n",
              "      <th>RMNG_OIL_H</th>\n",
              "      <th>GAS_H</th>\n",
              "      <th>TOTAL_INJ</th>\n",
              "      <th>TOTAL_GNTL_INJ</th>\n",
              "      <th>Lin_Dist_Inj_Factor</th>\n",
              "      <th>SGMT_CUM_STM_INJ_1</th>\n",
              "      <th>FT_DIST_PAT_1</th>\n",
              "      <th>SGMT_CUM_STM_INJ_2</th>\n",
              "      <th>FT_DIST_PAT_2</th>\n",
              "      <th>SGMT_CUM_STM_INJ_3</th>\n",
              "      <th>FT_DIST_PAT_3</th>\n",
              "      <th>TOTAL_PROD</th>\n",
              "      <th>Lin_Dist_Prod_Factor</th>\n",
              "      <th>PCT_DESAT_TO_ORIG</th>\n",
              "    </tr>\n",
              "  </thead>\n",
              "  <tbody>\n",
              "    <tr>\n",
              "      <th>0</th>\n",
              "      <td>435</td>\n",
              "      <td>TULS_D1</td>\n",
              "      <td>2012-10-25</td>\n",
              "      <td>0.05</td>\n",
              "      <td>0.7</td>\n",
              "      <td>21.06</td>\n",
              "      <td>0.00</td>\n",
              "      <td>21.06</td>\n",
              "      <td>1.246190e+08</td>\n",
              "      <td>3164720</td>\n",
              "      <td>0.269</td>\n",
              "      <td>NaN</td>\n",
              "      <td>NaN</td>\n",
              "      <td>551231.0</td>\n",
              "      <td>372.0</td>\n",
              "      <td>942465.0</td>\n",
              "      <td>465.0</td>\n",
              "      <td>8904160</td>\n",
              "      <td>0.410639</td>\n",
              "      <td>1.00</td>\n",
              "    </tr>\n",
              "    <tr>\n",
              "      <th>1</th>\n",
              "      <td>435</td>\n",
              "      <td>TULS_D1</td>\n",
              "      <td>2016-09-02</td>\n",
              "      <td>0.05</td>\n",
              "      <td>0.7</td>\n",
              "      <td>21.06</td>\n",
              "      <td>0.00</td>\n",
              "      <td>21.06</td>\n",
              "      <td>1.791845e+08</td>\n",
              "      <td>4085829</td>\n",
              "      <td>0.302</td>\n",
              "      <td>NaN</td>\n",
              "      <td>NaN</td>\n",
              "      <td>963379.0</td>\n",
              "      <td>372.0</td>\n",
              "      <td>994686.0</td>\n",
              "      <td>465.0</td>\n",
              "      <td>18796208</td>\n",
              "      <td>0.380935</td>\n",
              "      <td>1.00</td>\n",
              "    </tr>\n",
              "    <tr>\n",
              "      <th>2</th>\n",
              "      <td>435</td>\n",
              "      <td>TULS_D2</td>\n",
              "      <td>1990-01-01</td>\n",
              "      <td>0.06</td>\n",
              "      <td>0.7</td>\n",
              "      <td>14.58</td>\n",
              "      <td>14.58</td>\n",
              "      <td>0.00</td>\n",
              "      <td>0.000000e+00</td>\n",
              "      <td>0</td>\n",
              "      <td>0.218</td>\n",
              "      <td>0.0</td>\n",
              "      <td>NaN</td>\n",
              "      <td>0.0</td>\n",
              "      <td>NaN</td>\n",
              "      <td>0.0</td>\n",
              "      <td>465.0</td>\n",
              "      <td>0</td>\n",
              "      <td>0.410639</td>\n",
              "      <td>0.00</td>\n",
              "    </tr>\n",
              "    <tr>\n",
              "      <th>3</th>\n",
              "      <td>435</td>\n",
              "      <td>TULS_D2</td>\n",
              "      <td>2012-10-25</td>\n",
              "      <td>0.06</td>\n",
              "      <td>0.7</td>\n",
              "      <td>14.58</td>\n",
              "      <td>3.00</td>\n",
              "      <td>11.58</td>\n",
              "      <td>1.246190e+08</td>\n",
              "      <td>511013</td>\n",
              "      <td>0.218</td>\n",
              "      <td>NaN</td>\n",
              "      <td>NaN</td>\n",
              "      <td>NaN</td>\n",
              "      <td>NaN</td>\n",
              "      <td>232391.0</td>\n",
              "      <td>465.0</td>\n",
              "      <td>8904160</td>\n",
              "      <td>0.410639</td>\n",
              "      <td>0.79</td>\n",
              "    </tr>\n",
              "    <tr>\n",
              "      <th>4</th>\n",
              "      <td>435</td>\n",
              "      <td>TULS_D2</td>\n",
              "      <td>2016-09-02</td>\n",
              "      <td>0.06</td>\n",
              "      <td>0.7</td>\n",
              "      <td>14.58</td>\n",
              "      <td>0.00</td>\n",
              "      <td>14.58</td>\n",
              "      <td>1.791845e+08</td>\n",
              "      <td>880407</td>\n",
              "      <td>0.229</td>\n",
              "      <td>NaN</td>\n",
              "      <td>NaN</td>\n",
              "      <td>NaN</td>\n",
              "      <td>NaN</td>\n",
              "      <td>416613.0</td>\n",
              "      <td>465.0</td>\n",
              "      <td>18796208</td>\n",
              "      <td>0.380935</td>\n",
              "      <td>1.00</td>\n",
              "    </tr>\n",
              "  </tbody>\n",
              "</table>\n",
              "</div>"
            ],
            "text/plain": [
              "   CMPL_FAC_ID     SAND  ... Lin_Dist_Prod_Factor  PCT_DESAT_TO_ORIG\n",
              "0          435  TULS_D1  ...             0.410639               1.00\n",
              "1          435  TULS_D1  ...             0.380935               1.00\n",
              "2          435  TULS_D2  ...             0.410639               0.00\n",
              "3          435  TULS_D2  ...             0.410639               0.79\n",
              "4          435  TULS_D2  ...             0.380935               1.00\n",
              "\n",
              "[5 rows x 20 columns]"
            ]
          },
          "metadata": {},
          "execution_count": 15
        }
      ]
    },
    {
      "cell_type": "markdown",
      "metadata": {
        "id": "eeKAb2QWMW96"
      },
      "source": [
        "# Exploration Data Analysis\n"
      ]
    },
    {
      "cell_type": "code",
      "metadata": {
        "colab": {
          "base_uri": "https://localhost:8080/"
        },
        "id": "i-1ukfHBYYPz",
        "outputId": "f62010ca-bfe2-4911-a67c-6b12ff20e7b6"
      },
      "source": [
        "train_df.info()"
      ],
      "execution_count": 3,
      "outputs": [
        {
          "output_type": "stream",
          "name": "stdout",
          "text": [
            "<class 'pandas.core.frame.DataFrame'>\n",
            "RangeIndex: 8004 entries, 0 to 8003\n",
            "Data columns (total 20 columns):\n",
            " #   Column                Non-Null Count  Dtype  \n",
            "---  ------                --------------  -----  \n",
            " 0   CMPL_FAC_ID           8004 non-null   int64  \n",
            " 1   SAND                  8004 non-null   object \n",
            " 2   SURV_DTE              8004 non-null   object \n",
            " 3   DIP                   8004 non-null   float64\n",
            " 4   AVG_ORIG_OIL_SAT      8004 non-null   float64\n",
            " 5   ORIG_OIL_H            8004 non-null   float64\n",
            " 6   RMNG_OIL_H            8004 non-null   float64\n",
            " 7   GAS_H                 8004 non-null   float64\n",
            " 8   TOTAL_INJ             8004 non-null   float64\n",
            " 9   TOTAL_GNTL_INJ        8004 non-null   int64  \n",
            " 10  Lin_Dist_Inj_Factor   7781 non-null   float64\n",
            " 11  SGMT_CUM_STM_INJ_1    6123 non-null   float64\n",
            " 12  FT_DIST_PAT_1         5896 non-null   float64\n",
            " 13  SGMT_CUM_STM_INJ_2    5750 non-null   float64\n",
            " 14  FT_DIST_PAT_2         5505 non-null   float64\n",
            " 15  SGMT_CUM_STM_INJ_3    5765 non-null   float64\n",
            " 16  FT_DIST_PAT_3         5506 non-null   float64\n",
            " 17  TOTAL_PROD            8004 non-null   int64  \n",
            " 18  Lin_Dist_Prod_Factor  8003 non-null   float64\n",
            " 19  PCT_DESAT_TO_ORIG     8004 non-null   float64\n",
            "dtypes: float64(15), int64(3), object(2)\n",
            "memory usage: 1.2+ MB\n"
          ]
        }
      ]
    },
    {
      "cell_type": "code",
      "metadata": {
        "colab": {
          "base_uri": "https://localhost:8080/",
          "height": 336
        },
        "id": "DdupnjJ3Y8Mv",
        "outputId": "11e7f565-c622-4300-a7f9-6d84cb69bbbf"
      },
      "source": [
        "plt.hist(train_df.PCT_DESAT_TO_ORIG)"
      ],
      "execution_count": 4,
      "outputs": [
        {
          "output_type": "execute_result",
          "data": {
            "text/plain": [
              "(array([4335.,  404.,  439.,  284.,  269.,  305.,  276.,  230.,  223.,\n",
              "        1239.]),\n",
              " array([0. , 0.1, 0.2, 0.3, 0.4, 0.5, 0.6, 0.7, 0.8, 0.9, 1. ]),\n",
              " <a list of 10 Patch objects>)"
            ]
          },
          "metadata": {},
          "execution_count": 4
        },
        {
          "output_type": "display_data",
          "data": {
            "image/png": "[encoded data removed]",
            "text/plain": [
              "<Figure size 432x288 with 1 Axes>"
            ]
          },
          "metadata": {
            "needs_background": "light"
          }
        }
      ]
    },
    {
      "cell_type": "code",
      "metadata": {
        "colab": {
          "base_uri": "https://localhost:8080/"
        },
        "id": "UfIbO8YVVmTS",
        "outputId": "8d682aff-f027-47a3-b1ff-8cb50188fb7c"
      },
      "source": [
        "train_df.isna().sum()"
      ],
      "execution_count": 19,
      "outputs": [
        {
          "output_type": "execute_result",
          "data": {
            "text/plain": [
              "CMPL_FAC_ID                0\n",
              "SAND                       0\n",
              "SURV_DTE                   0\n",
              "DIP                        0\n",
              "AVG_ORIG_OIL_SAT           0\n",
              "ORIG_OIL_H                 0\n",
              "RMNG_OIL_H                 0\n",
              "GAS_H                      0\n",
              "TOTAL_INJ                  0\n",
              "TOTAL_GNTL_INJ             0\n",
              "Lin_Dist_Inj_Factor      223\n",
              "SGMT_CUM_STM_INJ_1      1881\n",
              "FT_DIST_PAT_1           2108\n",
              "SGMT_CUM_STM_INJ_2      2254\n",
              "FT_DIST_PAT_2           2499\n",
              "SGMT_CUM_STM_INJ_3      2239\n",
              "FT_DIST_PAT_3           2498\n",
              "TOTAL_PROD                 0\n",
              "Lin_Dist_Prod_Factor       1\n",
              "PCT_DESAT_TO_ORIG          0\n",
              "dtype: int64"
            ]
          },
          "metadata": {},
          "execution_count": 19
        }
      ]
    },
    {
      "cell_type": "code",
      "metadata": {
        "id": "S4PN34oGVq5N"
      },
      "source": [
        ""
      ],
      "execution_count": null,
      "outputs": []
    },
    {
      "cell_type": "markdown",
      "metadata": {
        "id": "keyJuulVVuRn"
      },
      "source": [
        "# PREPROCESSING"
      ]
    },
    {
      "cell_type": "code",
      "metadata": {
        "id": "61O0vtyeZeZW"
      },
      "source": [
        "train_df = train_df.fillna(0)\n",
        "main_cols = train_df.columns.difference(['GAS_H','RMNG_OIL_H','CMPL_FAC_ID', 'PCT_DESAT_TO_ORIG','SURV_DTE'])\n",
        "X = train_df[main_cols]\n",
        "y = train_df.PCT_DESAT_TO_ORIG"
      ],
      "execution_count": 22,
      "outputs": []
    },
    {
      "cell_type": "markdown",
      "metadata": {
        "id": "_XBN68RmZdKT"
      },
      "source": [
        "## Label Encoding"
      ]
    },
    {
      "cell_type": "code",
      "metadata": {
        "id": "QaUhe4DtW21c"
      },
      "source": [
        "from sklearn import preprocessing\n",
        "le = preprocessing.LabelEncoder()\n",
        "X['SAND']=le.fit_transform(X['SAND'])"
      ],
      "execution_count": null,
      "outputs": []
    },
    {
      "cell_type": "markdown",
      "metadata": {
        "id": "SYUJEDKrbqr0"
      },
      "source": [
        "## Modeling"
      ]
    },
    {
      "cell_type": "code",
      "metadata": {
        "id": "jirxYMgTaDbS"
      },
      "source": [
        "# Split data into train and test sets\n",
        "X_train, X_test, y_train, y_test = train_test_split(X,y,test_size=0.2, random_state=42)"
      ],
      "execution_count": 34,
      "outputs": []
    },
    {
      "cell_type": "code",
      "metadata": {
        "id": "dQFTCAeVeUtr",
        "colab": {
          "base_uri": "https://localhost:8080/"
        },
        "outputId": "ab18b150-2244-4c66-995a-a42884f518c1"
      },
      "source": [
        "model = RandomForestRegressor(random_state=42)\n",
        "model.fit(X_train, y_train)"
      ],
      "execution_count": 35,
      "outputs": [
        {
          "output_type": "execute_result",
          "data": {
            "text/plain": [
              "RandomForestRegressor(random_state=42)"
            ]
          },
          "metadata": {},
          "execution_count": 35
        }
      ]
    },
    {
      "cell_type": "code",
      "metadata": {
        "id": "yHFua1ZRgOky"
      },
      "source": [
        "y_pred = model.predict(X_test)"
      ],
      "execution_count": 36,
      "outputs": []
    },
    {
      "cell_type": "code",
      "metadata": {
        "colab": {
          "base_uri": "https://localhost:8080/"
        },
        "id": "CbPZBR0zbCIH",
        "outputId": "1f6cab8a-e5f6-4278-a04f-1ecede727572"
      },
      "source": [
        "from sklearn.metrics import mean_squared_error\n",
        "\n",
        "mse = mean_squared_error(y_test, y_pred, squared=False)\n",
        "mse"
      ],
      "execution_count": 37,
      "outputs": [
        {
          "output_type": "execute_result",
          "data": {
            "text/plain": [
              "0.24589515078181948"
            ]
          },
          "metadata": {},
          "execution_count": 37
        }
      ]
    },
    {
      "cell_type": "code",
      "metadata": {
        "id": "tsXsBKFnbGFu"
      },
      "source": [
        "# Helper function for plotting feature importance\n",
        "def plot_features(columns, importances, n=20):\n",
        "    df = (pd.DataFrame({\"features\": columns,\n",
        "                        \"feature_importance\": importances})\n",
        "          .sort_values(\"feature_importance\", ascending=False)\n",
        "          .reset_index(drop=True))\n",
        "    \n",
        "    sns.barplot(x=\"feature_importance\",\n",
        "                y=\"features\",\n",
        "                data=df[:n],\n",
        "                orient=\"h\")"
      ],
      "execution_count": 38,
      "outputs": []
    },
    {
      "cell_type": "code",
      "metadata": {
        "colab": {
          "base_uri": "https://localhost:8080/",
          "height": 280
        },
        "id": "nzyQtHQCbaI_",
        "outputId": "6fa89c0e-95b3-4a82-aa0a-dbc617f06da1"
      },
      "source": [
        "plot_features(X_train.columns, model.feature_importances_)"
      ],
      "execution_count": 41,
      "outputs": [
        {
          "output_type": "display_data",
          "data": {
            "image/png": "[encoded data removed]",
            "text/plain": [
              "<Figure size 432x288 with 1 Axes>"
            ]
          },
          "metadata": {
            "needs_background": "light"
          }
        }
      ]
    },
    {
      "cell_type": "code",
      "metadata": {
        "id": "m1ujq1ygbdHx"
      },
      "source": [
        ""
      ],
      "execution_count": null,
      "outputs": []
    }
  ]
}